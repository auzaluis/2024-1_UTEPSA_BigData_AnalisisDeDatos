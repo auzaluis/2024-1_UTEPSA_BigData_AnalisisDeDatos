{
  "nbformat": 4,
  "nbformat_minor": 0,
  "metadata": {
    "colab": {
      "provenance": [],
      "authorship_tag": "ABX9TyOTrBnxp3MhdndibB+rbEHL",
      "include_colab_link": true
    },
    "kernelspec": {
      "name": "python3",
      "display_name": "Python 3"
    },
    "language_info": {
      "name": "python"
    }
  },
  "cells": [
    {
      "cell_type": "markdown",
      "metadata": {
        "id": "view-in-github",
        "colab_type": "text"
      },
      "source": [
        "<a href=\"https://colab.research.google.com/github/auzaluis/2024-1_UTEPSA_BigData_AnalisisDeDatos/blob/main/Python/01_script_ETL_personalidad.ipynb\" target=\"_parent\"><img src=\"https://colab.research.google.com/assets/colab-badge.svg\" alt=\"Open In Colab\"/></a>"
      ]
    },
    {
      "cell_type": "markdown",
      "source": [
        "# Tema 1: Carga de datos"
      ],
      "metadata": {
        "id": "Pund-fwiVRfY"
      }
    },
    {
      "cell_type": "markdown",
      "source": [
        "## **Importando base de datos**"
      ],
      "metadata": {
        "id": "fkrS1cyEOsnd"
      }
    },
    {
      "cell_type": "code",
      "execution_count": null,
      "metadata": {
        "id": "5OhsxVd1MxxF"
      },
      "outputs": [],
      "source": [
        "# Google Auth\n",
        "from google.colab import auth\n",
        "auth.authenticate_user()"
      ]
    },
    {
      "cell_type": "code",
      "source": [
        "# API Client\n",
        "from google.auth import default\n",
        "creds, _ = default()"
      ],
      "metadata": {
        "id": "EX1ozFn-OEza"
      },
      "execution_count": null,
      "outputs": []
    },
    {
      "cell_type": "code",
      "source": [
        "# gspread Authorization\n",
        "import gspread\n",
        "gc = gspread.authorize(creds)"
      ],
      "metadata": {
        "id": "CNDGm59YQWs0"
      },
      "execution_count": null,
      "outputs": []
    },
    {
      "cell_type": "code",
      "source": [
        "# Accediendo al Google Sheet\n",
        "url_personalidad = \"https://docs.google.com/spreadsheets/d/1IQ_RxxTSmBKHTExlxboIRNlMov_F6RyqdcOPrflCv_w/edit?usp=sharing\"\n",
        "gsheets = gc.open_by_url(url_personalidad)\n",
        "sheets = gsheets.worksheet(\"Respuestas de formulario 1\").get_all_values()"
      ],
      "metadata": {
        "id": "3WtrC653PsH1"
      },
      "execution_count": null,
      "outputs": []
    },
    {
      "cell_type": "code",
      "source": [
        "type(sheets)"
      ],
      "metadata": {
        "id": "NEPKsNJ_Qz6r"
      },
      "execution_count": null,
      "outputs": []
    },
    {
      "cell_type": "code",
      "source": [
        "# Convirtiendo en un df\n",
        "import pandas as pd\n",
        "df = pd.DataFrame(sheets[1:], columns = sheets[0])"
      ],
      "metadata": {
        "id": "wbgaLDlDQ2Xv"
      },
      "execution_count": null,
      "outputs": []
    },
    {
      "cell_type": "markdown",
      "source": [
        "## Inspección data frame"
      ],
      "metadata": {
        "id": "SR6kgnYOSjQj"
      }
    },
    {
      "cell_type": "code",
      "source": [
        "type(df)"
      ],
      "metadata": {
        "id": "xlxZrBmoRlsO"
      },
      "execution_count": null,
      "outputs": []
    },
    {
      "cell_type": "code",
      "source": [
        "# Visualizando las primeras filas\n",
        "df.head()"
      ],
      "metadata": {
        "id": "6u_Cs27bSnAm"
      },
      "execution_count": null,
      "outputs": []
    },
    {
      "cell_type": "code",
      "source": [
        "# Mirada general\n",
        "df.info()"
      ],
      "metadata": {
        "id": "QvNhJHUBS15K"
      },
      "execution_count": null,
      "outputs": []
    },
    {
      "cell_type": "code",
      "source": [
        "# Tipo de datos\n",
        "df[\"Sexo\"].dtype"
      ],
      "metadata": {
        "id": "HdjNEllaTRSE"
      },
      "execution_count": null,
      "outputs": []
    },
    {
      "cell_type": "code",
      "source": [
        "# Número de filas y columnas\n",
        "df.shape"
      ],
      "metadata": {
        "id": "qNevhL4vT3Fc"
      },
      "execution_count": null,
      "outputs": []
    },
    {
      "cell_type": "code",
      "source": [
        "# Número de filas\n",
        "len(df)"
      ],
      "metadata": {
        "id": "Mhk7hMe7UJCw"
      },
      "execution_count": null,
      "outputs": []
    },
    {
      "cell_type": "code",
      "source": [
        "df.columns"
      ],
      "metadata": {
        "id": "Wb_-P8uyUn83"
      },
      "execution_count": null,
      "outputs": []
    },
    {
      "cell_type": "code",
      "source": [
        "len(df.columns)"
      ],
      "metadata": {
        "id": "TyGueagLUfSL"
      },
      "execution_count": null,
      "outputs": []
    },
    {
      "cell_type": "markdown",
      "source": [
        "# **Tema 2: Transformación de datos**"
      ],
      "metadata": {
        "id": "efhk7IjcVXhd"
      }
    },
    {
      "cell_type": "markdown",
      "source": [
        "## **Valores perdidos**"
      ],
      "metadata": {
        "id": "Z1BtWbzSVdjh"
      }
    },
    {
      "cell_type": "markdown",
      "source": [
        "### **Identificación de los NAs**"
      ],
      "metadata": {
        "id": "nI4o5CbiWBg7"
      }
    },
    {
      "cell_type": "code",
      "source": [
        "# Los NAs en realidad son strings vacíos\n",
        "import numpy as np\n",
        "df.replace(\"\", np.nan, inplace = True)"
      ],
      "metadata": {
        "id": "mHq8JhKTUpnP"
      },
      "execution_count": null,
      "outputs": []
    },
    {
      "cell_type": "code",
      "source": [
        "df['Escribe tu edad exacta'].isna().value_counts()"
      ],
      "metadata": {
        "id": "nq26zsioWbEL"
      },
      "execution_count": null,
      "outputs": []
    },
    {
      "cell_type": "markdown",
      "source": [
        "### **Omitiendo**\n",
        "\n"
      ],
      "metadata": {
        "id": "nGegcBbrXPdf"
      }
    },
    {
      "cell_type": "code",
      "source": [
        "df['Escribe tu edad exacta'].dtype"
      ],
      "metadata": {
        "id": "_T6bnx_PWzNB"
      },
      "execution_count": null,
      "outputs": []
    },
    {
      "cell_type": "code",
      "source": [
        "df['Escribe tu edad exacta'] = pd.to_numeric(df['Escribe tu edad exacta'], errors = 'coerce')"
      ],
      "metadata": {
        "id": "PL0DOlw5XXnv"
      },
      "execution_count": null,
      "outputs": []
    },
    {
      "cell_type": "code",
      "source": [
        "df['Escribe tu edad exacta'].dtype"
      ],
      "metadata": {
        "id": "N-DOz_S6X3NC"
      },
      "execution_count": null,
      "outputs": []
    },
    {
      "cell_type": "code",
      "source": [
        "df['Escribe tu edad exacta'].mean()"
      ],
      "metadata": {
        "id": "nbjSzMxIYQNr"
      },
      "execution_count": null,
      "outputs": []
    },
    {
      "cell_type": "code",
      "source": [
        "edad_promedio = df['Escribe tu edad exacta'].mean()"
      ],
      "metadata": {
        "id": "uKqD9RqGYWUR"
      },
      "execution_count": null,
      "outputs": []
    },
    {
      "cell_type": "markdown",
      "source": [
        "### **Reemplazo por la media**"
      ],
      "metadata": {
        "id": "HgdINdQMYmNy"
      }
    },
    {
      "cell_type": "code",
      "source": [
        "# creando df2\n",
        "df2 = df.copy()"
      ],
      "metadata": {
        "id": "k6oH_un2YhDN"
      },
      "execution_count": null,
      "outputs": []
    },
    {
      "cell_type": "code",
      "source": [
        "# reemplazo por la media\n",
        "df2[\"edad2\"] = df2[\"Escribe tu edad exacta\"].fillna(edad_promedio)"
      ],
      "metadata": {
        "id": "Np9kHdVXY9Tp"
      },
      "execution_count": null,
      "outputs": []
    },
    {
      "cell_type": "code",
      "source": [
        "df2[[\"edad2\"]]"
      ],
      "metadata": {
        "id": "sN8T--1lZcUd"
      },
      "execution_count": null,
      "outputs": []
    },
    {
      "cell_type": "code",
      "source": [],
      "metadata": {
        "id": "-WcrBeDrZc-s"
      },
      "execution_count": null,
      "outputs": []
    }
  ]
}