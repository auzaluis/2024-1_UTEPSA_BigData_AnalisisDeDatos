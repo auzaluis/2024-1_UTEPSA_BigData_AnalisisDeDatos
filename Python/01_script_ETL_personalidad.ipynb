{
  "nbformat": 4,
  "nbformat_minor": 0,
  "metadata": {
    "colab": {
      "provenance": [],
      "toc_visible": true,
      "authorship_tag": "ABX9TyO/aWoLVZEgmIHJRvmjaquf",
      "include_colab_link": true
    },
    "kernelspec": {
      "name": "python3",
      "display_name": "Python 3"
    },
    "language_info": {
      "name": "python"
    }
  },
  "cells": [
    {
      "cell_type": "markdown",
      "metadata": {
        "id": "view-in-github",
        "colab_type": "text"
      },
      "source": [
        "<a href=\"https://colab.research.google.com/github/auzaluis/2024-1_UTEPSA_BigData_AnalisisDeDatos/blob/main/Python/01_script_ETL_personalidad.ipynb\" target=\"_parent\"><img src=\"https://colab.research.google.com/assets/colab-badge.svg\" alt=\"Open In Colab\"/></a>"
      ]
    },
    {
      "cell_type": "markdown",
      "source": [
        "# Tema 1: Carga de datos"
      ],
      "metadata": {
        "id": "Pund-fwiVRfY"
      }
    },
    {
      "cell_type": "markdown",
      "source": [
        "## **Importando base de datos**"
      ],
      "metadata": {
        "id": "fkrS1cyEOsnd"
      }
    },
    {
      "cell_type": "code",
      "execution_count": null,
      "metadata": {
        "id": "5OhsxVd1MxxF"
      },
      "outputs": [],
      "source": [
        "# Google Auth\n",
        "from google.colab import auth\n",
        "auth.authenticate_user()"
      ]
    },
    {
      "cell_type": "code",
      "source": [
        "# API Client\n",
        "from google.auth import default\n",
        "creds, _ = default()"
      ],
      "metadata": {
        "id": "EX1ozFn-OEza"
      },
      "execution_count": null,
      "outputs": []
    },
    {
      "cell_type": "code",
      "source": [
        "# gspread Authorization\n",
        "import gspread\n",
        "gc = gspread.authorize(creds)"
      ],
      "metadata": {
        "id": "CNDGm59YQWs0"
      },
      "execution_count": null,
      "outputs": []
    },
    {
      "cell_type": "code",
      "source": [
        "# Accediendo al Google Sheet\n",
        "url_personalidad = \"https://docs.google.com/spreadsheets/d/1IQ_RxxTSmBKHTExlxboIRNlMov_F6RyqdcOPrflCv_w/edit?usp=sharing\"\n",
        "gsheets = gc.open_by_url(url_personalidad)\n",
        "sheets = gsheets.worksheet(\"Respuestas de formulario 1\").get_all_values()"
      ],
      "metadata": {
        "id": "3WtrC653PsH1"
      },
      "execution_count": null,
      "outputs": []
    },
    {
      "cell_type": "code",
      "source": [
        "type(sheets)"
      ],
      "metadata": {
        "id": "NEPKsNJ_Qz6r"
      },
      "execution_count": null,
      "outputs": []
    },
    {
      "cell_type": "code",
      "source": [
        "# Convirtiendo en un df\n",
        "import pandas as pd\n",
        "df = pd.DataFrame(sheets[1:], columns = sheets[0])"
      ],
      "metadata": {
        "id": "wbgaLDlDQ2Xv"
      },
      "execution_count": null,
      "outputs": []
    },
    {
      "cell_type": "markdown",
      "source": [
        "## Inspección data frame"
      ],
      "metadata": {
        "id": "SR6kgnYOSjQj"
      }
    },
    {
      "cell_type": "code",
      "source": [
        "type(df)"
      ],
      "metadata": {
        "id": "xlxZrBmoRlsO"
      },
      "execution_count": null,
      "outputs": []
    },
    {
      "cell_type": "code",
      "source": [
        "# Visualizando las primeras filas\n",
        "df.head()"
      ],
      "metadata": {
        "id": "6u_Cs27bSnAm"
      },
      "execution_count": null,
      "outputs": []
    },
    {
      "cell_type": "code",
      "source": [
        "# Mirada general\n",
        "df.info()"
      ],
      "metadata": {
        "id": "QvNhJHUBS15K"
      },
      "execution_count": null,
      "outputs": []
    },
    {
      "cell_type": "code",
      "source": [
        "# Tipo de datos\n",
        "df[\"Sexo\"].dtype"
      ],
      "metadata": {
        "id": "HdjNEllaTRSE"
      },
      "execution_count": null,
      "outputs": []
    },
    {
      "cell_type": "code",
      "source": [
        "# Número de filas y columnas\n",
        "df.shape"
      ],
      "metadata": {
        "id": "qNevhL4vT3Fc"
      },
      "execution_count": null,
      "outputs": []
    },
    {
      "cell_type": "code",
      "source": [
        "# Número de filas\n",
        "len(df)"
      ],
      "metadata": {
        "id": "Mhk7hMe7UJCw"
      },
      "execution_count": null,
      "outputs": []
    },
    {
      "cell_type": "code",
      "source": [
        "df.columns"
      ],
      "metadata": {
        "id": "Wb_-P8uyUn83"
      },
      "execution_count": null,
      "outputs": []
    },
    {
      "cell_type": "code",
      "source": [
        "len(df.columns)"
      ],
      "metadata": {
        "id": "TyGueagLUfSL"
      },
      "execution_count": null,
      "outputs": []
    },
    {
      "cell_type": "markdown",
      "source": [
        "# **Tema 2: Transformación de datos**"
      ],
      "metadata": {
        "id": "efhk7IjcVXhd"
      }
    },
    {
      "cell_type": "markdown",
      "source": [
        "## **Valores perdidos**"
      ],
      "metadata": {
        "id": "Z1BtWbzSVdjh"
      }
    },
    {
      "cell_type": "markdown",
      "source": [
        "### **Identificación de los NAs**"
      ],
      "metadata": {
        "id": "nI4o5CbiWBg7"
      }
    },
    {
      "cell_type": "code",
      "source": [
        "# Los NAs en realidad son strings vacíos\n",
        "import numpy as np\n",
        "df.replace(\"\", np.nan, inplace = True)"
      ],
      "metadata": {
        "id": "mHq8JhKTUpnP"
      },
      "execution_count": null,
      "outputs": []
    },
    {
      "cell_type": "code",
      "source": [
        "df['Escribe tu edad exacta'].isna().value_counts()"
      ],
      "metadata": {
        "id": "nq26zsioWbEL"
      },
      "execution_count": null,
      "outputs": []
    },
    {
      "cell_type": "markdown",
      "source": [
        "### **Omitiendo**\n",
        "\n"
      ],
      "metadata": {
        "id": "nGegcBbrXPdf"
      }
    },
    {
      "cell_type": "code",
      "source": [
        "df['Escribe tu edad exacta'].dtype"
      ],
      "metadata": {
        "id": "_T6bnx_PWzNB"
      },
      "execution_count": null,
      "outputs": []
    },
    {
      "cell_type": "code",
      "source": [
        "df['Escribe tu edad exacta'] = pd.to_numeric(df['Escribe tu edad exacta'], errors = 'coerce')"
      ],
      "metadata": {
        "id": "PL0DOlw5XXnv"
      },
      "execution_count": null,
      "outputs": []
    },
    {
      "cell_type": "code",
      "source": [
        "df['Escribe tu edad exacta'].dtype"
      ],
      "metadata": {
        "id": "N-DOz_S6X3NC"
      },
      "execution_count": null,
      "outputs": []
    },
    {
      "cell_type": "code",
      "source": [
        "df['Escribe tu edad exacta'].mean()"
      ],
      "metadata": {
        "id": "nbjSzMxIYQNr"
      },
      "execution_count": null,
      "outputs": []
    },
    {
      "cell_type": "code",
      "source": [
        "edad_promedio = df['Escribe tu edad exacta'].mean()"
      ],
      "metadata": {
        "id": "uKqD9RqGYWUR"
      },
      "execution_count": null,
      "outputs": []
    },
    {
      "cell_type": "markdown",
      "source": [
        "### **Reemplazo por la media**"
      ],
      "metadata": {
        "id": "HgdINdQMYmNy"
      }
    },
    {
      "cell_type": "code",
      "source": [
        "# creando df2\n",
        "df2 = df.copy()"
      ],
      "metadata": {
        "id": "k6oH_un2YhDN"
      },
      "execution_count": null,
      "outputs": []
    },
    {
      "cell_type": "code",
      "source": [
        "# reemplazo por la media\n",
        "df2[\"edad2\"] = df2[\"Escribe tu edad exacta\"].fillna(edad_promedio)"
      ],
      "metadata": {
        "id": "Np9kHdVXY9Tp"
      },
      "execution_count": null,
      "outputs": []
    },
    {
      "cell_type": "markdown",
      "source": [
        "**Reubicando la columna edad2**"
      ],
      "metadata": {
        "id": "G4uiguWMlyXl"
      }
    },
    {
      "cell_type": "code",
      "source": [
        "# Colocar los nombres de las columnas en una lista\n",
        "lista_columnas = df2.columns.to_list()"
      ],
      "metadata": {
        "id": "__0i4eHflj30"
      },
      "execution_count": null,
      "outputs": []
    },
    {
      "cell_type": "code",
      "source": [
        "# Quitar temporalmente edad2 de la lista\n",
        "lista_columnas.remove(\"edad2\")"
      ],
      "metadata": {
        "id": "AX9dIwxVmWe4"
      },
      "execution_count": null,
      "outputs": []
    },
    {
      "cell_type": "code",
      "source": [
        "# obteniendo el índice de la columna 'after'\n",
        "lista_columnas.index(\"Escribe tu edad exacta\")"
      ],
      "metadata": {
        "id": "x18Da6Mrmlba"
      },
      "execution_count": null,
      "outputs": []
    },
    {
      "cell_type": "code",
      "source": [
        "# insertando 'edad2' después de 'Escribe tu edad exacta'\n",
        "lista_columnas.insert(lista_columnas.index(\"Escribe tu edad exacta\") + 1, \"edad2\")"
      ],
      "metadata": {
        "id": "KbFcOMW9m7jB"
      },
      "execution_count": null,
      "outputs": []
    },
    {
      "cell_type": "code",
      "source": [
        "# Reordenando y guadando en df2\n",
        "df2 = df2[lista_columnas]"
      ],
      "metadata": {
        "id": "1yZh1uWvnxde"
      },
      "execution_count": null,
      "outputs": []
    },
    {
      "cell_type": "markdown",
      "source": [
        "**Emulando relocate() de R en Python**"
      ],
      "metadata": {
        "id": "JZwDSEvgo58w"
      }
    },
    {
      "cell_type": "code",
      "source": [
        "def relocate(df, columna, after):\n",
        "  lista_columnas = df.columns.to_list()\n",
        "  lista_columnas.remove(columna)\n",
        "  lista_columnas.insert(lista_columnas.index(after) + 1, columna)\n",
        "  return df[lista_columnas]"
      ],
      "metadata": {
        "id": "hj0ldF5bobod"
      },
      "execution_count": null,
      "outputs": []
    },
    {
      "cell_type": "code",
      "source": [
        "relocate(\n",
        "    df = df2,\n",
        "    columna = \"edad2\",\n",
        "    after = \"Escribe tu edad exacta\"\n",
        ")"
      ],
      "metadata": {
        "id": "e3Kv58JCqiM_"
      },
      "execution_count": null,
      "outputs": []
    },
    {
      "cell_type": "markdown",
      "source": [
        "### **Eliminar la fila completa**"
      ],
      "metadata": {
        "id": "wUmFYiOtsTSu"
      }
    },
    {
      "cell_type": "code",
      "source": [
        "df2 = df2.dropna()"
      ],
      "metadata": {
        "id": "YkEQOuJIq1Im"
      },
      "execution_count": null,
      "outputs": []
    },
    {
      "cell_type": "code",
      "source": [
        "df2.shape"
      ],
      "metadata": {
        "id": "LBCJmgXOsamS"
      },
      "execution_count": null,
      "outputs": []
    },
    {
      "cell_type": "markdown",
      "source": [
        "## **Estandarización de variables**"
      ],
      "metadata": {
        "id": "m9gM1uF-tb99"
      }
    },
    {
      "cell_type": "markdown",
      "source": [
        "### **Normalización**"
      ],
      "metadata": {
        "id": "pUjdkNeTtfeQ"
      }
    },
    {
      "cell_type": "code",
      "source": [
        "from sklearn.preprocessing import StandardScaler"
      ],
      "metadata": {
        "id": "Ctsi32N6s2rk"
      },
      "execution_count": null,
      "outputs": []
    },
    {
      "cell_type": "code",
      "source": [
        "# instanciando StandardScaler()\n",
        "normalizador = StandardScaler()"
      ],
      "metadata": {
        "id": "n_zGiv7iuMR-"
      },
      "execution_count": null,
      "outputs": []
    },
    {
      "cell_type": "code",
      "source": [
        "# normalizando\n",
        "normalizador.fit_transform(df2[[\"edad2\"]])"
      ],
      "metadata": {
        "id": "EMQveM4PuP1_"
      },
      "execution_count": null,
      "outputs": []
    },
    {
      "cell_type": "code",
      "source": [
        "# Creando df3\n",
        "df3 = df2.copy()"
      ],
      "metadata": {
        "id": "z4ex3nIaueBk"
      },
      "execution_count": null,
      "outputs": []
    },
    {
      "cell_type": "code",
      "source": [
        "df3[\"edadZ\"] = normalizador.fit_transform(df2[[\"edad2\"]])"
      ],
      "metadata": {
        "id": "91eumZSQuexi"
      },
      "execution_count": null,
      "outputs": []
    },
    {
      "cell_type": "code",
      "source": [
        "# Reubicando edadZ\n",
        "df3 = relocate(\n",
        "    df = df3,\n",
        "    columna = \"edadZ\",\n",
        "    after = \"edad2\"\n",
        ")"
      ],
      "metadata": {
        "id": "aayEGpW7vGyZ"
      },
      "execution_count": null,
      "outputs": []
    },
    {
      "cell_type": "markdown",
      "source": [
        "### **Rango**"
      ],
      "metadata": {
        "id": "uz-q-GQgyX_X"
      }
    },
    {
      "cell_type": "code",
      "source": [
        "from sklearn.preprocessing import MinMaxScaler"
      ],
      "metadata": {
        "id": "F_89xtaGvWEc"
      },
      "execution_count": null,
      "outputs": []
    },
    {
      "cell_type": "code",
      "source": [
        "# instanciando MinMaxScaler()\n",
        "rango = MinMaxScaler()"
      ],
      "metadata": {
        "id": "o0Lg1_M4yqHJ"
      },
      "execution_count": null,
      "outputs": []
    },
    {
      "cell_type": "code",
      "source": [
        "rango.fit_transform(df3[[\"edad2\"]])"
      ],
      "metadata": {
        "id": "uJViit8By1ZZ"
      },
      "execution_count": null,
      "outputs": []
    },
    {
      "cell_type": "code",
      "source": [
        "df3[\"edadRango\"] = rango.fit_transform(df3[[\"edad2\"]])"
      ],
      "metadata": {
        "id": "0nAWRtfczARt"
      },
      "execution_count": null,
      "outputs": []
    },
    {
      "cell_type": "code",
      "source": [
        "df3 = relocate(\n",
        "    df = df3,\n",
        "    columna = \"edadRango\",\n",
        "    after = \"edadZ\"\n",
        ")"
      ],
      "metadata": {
        "id": "1miUVtk0zWIc"
      },
      "execution_count": null,
      "outputs": []
    },
    {
      "cell_type": "code",
      "source": [
        "df3.head()"
      ],
      "metadata": {
        "id": "hXAqdJ7Bzba7"
      },
      "execution_count": null,
      "outputs": []
    },
    {
      "cell_type": "markdown",
      "source": [
        "## **Agrupaciones**"
      ],
      "metadata": {
        "id": "Xsp8J19k2MW2"
      }
    },
    {
      "cell_type": "markdown",
      "source": [
        "### **Numéricas**"
      ],
      "metadata": {
        "id": "Lp44fIlD2PwP"
      }
    },
    {
      "cell_type": "code",
      "source": [
        "cortes = [-float(\"inf\"), 18, 21, float(\"inf\")]\n",
        "etiquetas = [\"18 o menos\", \"19 a 21\", \"Más de 21\"]"
      ],
      "metadata": {
        "id": "Hpm1l0FZzc0c"
      },
      "execution_count": null,
      "outputs": []
    },
    {
      "cell_type": "code",
      "source": [
        "# Creando columna edadGR\n",
        "df3[\"edadGR\"] = pd.cut(\n",
        "    df3[\"edad2\"],\n",
        "    bins = cortes,\n",
        "    labels = etiquetas\n",
        ")"
      ],
      "metadata": {
        "id": "TlqYYdoY8JuN"
      },
      "execution_count": null,
      "outputs": []
    },
    {
      "cell_type": "code",
      "source": [
        "# comparando\n",
        "pd.DataFrame({\n",
        "    \"original\": df3[\"edad2\"],\n",
        "    \"edadGR\": df3[\"edadGR\"]\n",
        "})"
      ],
      "metadata": {
        "id": "2BQMY1008LCT"
      },
      "execution_count": null,
      "outputs": []
    },
    {
      "cell_type": "markdown",
      "source": [
        "### **Categóricas**"
      ],
      "metadata": {
        "id": "gLLi0vFa9eLu"
      }
    },
    {
      "cell_type": "code",
      "source": [
        "# índices del df3\n",
        "df3.info()"
      ],
      "metadata": {
        "id": "UcaZoP_d8qJy"
      },
      "execution_count": null,
      "outputs": []
    },
    {
      "cell_type": "code",
      "source": [
        "# identificando los niveles\n",
        "pd.unique(df3.iloc[:,7])"
      ],
      "metadata": {
        "id": "3BeXUq_n9qP6"
      },
      "execution_count": null,
      "outputs": []
    },
    {
      "cell_type": "code",
      "source": [
        "df3.iloc[:,7].value_counts()"
      ],
      "metadata": {
        "id": "ADAEXjK--opA"
      },
      "execution_count": null,
      "outputs": []
    },
    {
      "cell_type": "code",
      "source": [
        "# prueba lógica top 2 box\n",
        "df3.iloc[:,7].isin([\"Totalmente verdadero\", \"Un poco verdadero\"]).value_counts()"
      ],
      "metadata": {
        "id": "b_tFsju0_N0z"
      },
      "execution_count": null,
      "outputs": []
    },
    {
      "cell_type": "markdown",
      "source": [
        "**Dummitización**"
      ],
      "metadata": {
        "id": "QFsEvMyNAOv9"
      }
    },
    {
      "cell_type": "code",
      "source": [
        "# función condicional normal\n",
        "def top2box(x):\n",
        "  if x in [\"Totalmente verdadero\", \"Un poco verdadero\"]:\n",
        "    return 1\n",
        "  else:\n",
        "    return 0"
      ],
      "metadata": {
        "id": "ryjR6aNS_xwi"
      },
      "execution_count": null,
      "outputs": []
    },
    {
      "cell_type": "code",
      "source": [
        "# aplicando la función\n",
        "df3.iloc[:,7].apply(top2box)"
      ],
      "metadata": {
        "id": "BHD2Gw41BqAk"
      },
      "execution_count": null,
      "outputs": []
    },
    {
      "cell_type": "code",
      "source": [
        "# frecuencias\n",
        "df3.iloc[:,7].apply(top2box).value_counts()"
      ],
      "metadata": {
        "id": "QXIvKiUiB27O"
      },
      "execution_count": null,
      "outputs": []
    },
    {
      "cell_type": "markdown",
      "source": [
        "**Funciones lambda**"
      ],
      "metadata": {
        "id": "Rqw-jDTTCV6r"
      }
    },
    {
      "cell_type": "code",
      "source": [
        "df3.iloc[:,7].apply(lambda x: 1 if x in [\"Totalmente verdadero\", \"Un poco verdadero\"] else 0).value_counts()"
      ],
      "metadata": {
        "id": "6vfNUE2qCErl"
      },
      "execution_count": null,
      "outputs": []
    },
    {
      "cell_type": "markdown",
      "source": [
        "**Escala ordinal**"
      ],
      "metadata": {
        "id": "x6HTHPUqFhfL"
      }
    },
    {
      "cell_type": "code",
      "source": [
        "import numpy as np"
      ],
      "metadata": {
        "id": "mfQZnY29Fizy"
      },
      "execution_count": null,
      "outputs": []
    },
    {
      "cell_type": "code",
      "source": [
        "# niveles\n",
        "pd.unique(df3.iloc[:,7])"
      ],
      "metadata": {
        "id": "VloIT25_FmB_"
      },
      "execution_count": null,
      "outputs": []
    },
    {
      "cell_type": "code",
      "source": [
        "condiciones = [\n",
        "    df3.iloc[:,7] == \"Totalmente falso\",\n",
        "    df3.iloc[:,7] == \"Un poco falso\",\n",
        "    df3.iloc[:,7] == \"No lo sé\",\n",
        "    df3.iloc[:,7] == \"Un poco verdadero\",\n",
        "    df3.iloc[:,7] == \"Totalmente verdadero\"\n",
        "]\n",
        "\n",
        "opciones = [1, 2, 3, 4, 5]"
      ],
      "metadata": {
        "id": "HKWQ63wTFqR9"
      },
      "execution_count": null,
      "outputs": []
    },
    {
      "cell_type": "code",
      "source": [
        "ordinal = np.select(\n",
        "    condlist = condiciones,\n",
        "    choicelist = opciones,\n",
        "    default = np.nan\n",
        ")"
      ],
      "metadata": {
        "id": "KzNp_AdxGCNz"
      },
      "execution_count": null,
      "outputs": []
    },
    {
      "cell_type": "code",
      "source": [
        "# como se trata de un objeto de numpy, el método es distinto\n",
        "np.unique(ordinal, return_counts = True)"
      ],
      "metadata": {
        "id": "ne1uAArqGn5E"
      },
      "execution_count": null,
      "outputs": []
    },
    {
      "cell_type": "code",
      "source": [
        "# si quisieras usar value_counts()...\n",
        "pd.Series(ordinal).value_counts()"
      ],
      "metadata": {
        "id": "K8jan2iAGvQq"
      },
      "execution_count": null,
      "outputs": []
    },
    {
      "cell_type": "markdown",
      "source": [
        "**Bucles**"
      ],
      "metadata": {
        "id": "IRHE4O5HIRRr"
      }
    },
    {
      "cell_type": "markdown",
      "source": [
        "Manera convencional"
      ],
      "metadata": {
        "id": "icv1ICVTIXxV"
      }
    },
    {
      "cell_type": "code",
      "source": [
        "# creando df4\n",
        "df4 = df3.copy()"
      ],
      "metadata": {
        "id": "jMbmuZx-HeFz"
      },
      "execution_count": null,
      "outputs": []
    },
    {
      "cell_type": "code",
      "source": [
        "df4.columns"
      ],
      "metadata": {
        "id": "zFjTJsNpJHrH"
      },
      "execution_count": null,
      "outputs": []
    },
    {
      "cell_type": "code",
      "source": [
        "# crear una lista vacía\n",
        "frases = []\n",
        "\n",
        "# creando bucle para llenar vector vacío\n",
        "for col in df4.columns:\n",
        "  if col.startswith(\"Según tu\"):\n",
        "    frases.append(col)"
      ],
      "metadata": {
        "id": "WuWXQIokIffZ"
      },
      "execution_count": null,
      "outputs": []
    },
    {
      "cell_type": "code",
      "source": [
        "frases"
      ],
      "metadata": {
        "id": "kZ7HMVSwJBAp"
      },
      "execution_count": null,
      "outputs": []
    },
    {
      "cell_type": "code",
      "source": [
        "# creando otro bucle, esta vez para dummitizar\n",
        "for var in frases:\n",
        "  df4[var] = df4[var].apply(top2box)"
      ],
      "metadata": {
        "id": "VucW5uwpJCiY"
      },
      "execution_count": null,
      "outputs": []
    },
    {
      "cell_type": "markdown",
      "source": [
        "Manera pythonica"
      ],
      "metadata": {
        "id": "yojvnRgb4x2R"
      }
    },
    {
      "cell_type": "code",
      "source": [
        "# creando df5\n",
        "df5 = df3.copy()"
      ],
      "metadata": {
        "id": "gImfAkng4Lef"
      },
      "execution_count": null,
      "outputs": []
    },
    {
      "cell_type": "code",
      "source": [
        "# crear una lista vacía\n",
        "frases = []\n",
        "\n",
        "# usando list comprehension\n",
        "frases = [col for col in df5.columns if col.startswith(\"Según tu\")]"
      ],
      "metadata": {
        "id": "HqSjDzzC5EMX"
      },
      "execution_count": null,
      "outputs": []
    },
    {
      "cell_type": "code",
      "source": [
        "# creando el bucle para dummitizar con función lambda\n",
        "for var in frases:\n",
        "  df5[var] = df5[var].apply(lambda x: 1 if x in [\"Totalmente verdadero\", \"Un poco verdadero\"] else 0)"
      ],
      "metadata": {
        "id": "Uca6K7_F5-rV"
      },
      "execution_count": null,
      "outputs": []
    },
    {
      "cell_type": "markdown",
      "source": [
        "# **Tema 3: Manipulación de data frames**"
      ],
      "metadata": {
        "id": "DPkdaFg6-c9O"
      }
    },
    {
      "cell_type": "markdown",
      "source": [
        "## **Selección de columnas**"
      ],
      "metadata": {
        "id": "QJ_XlVlq-jX4"
      }
    },
    {
      "cell_type": "code",
      "source": [
        "df5[\"Sexo\"]"
      ],
      "metadata": {
        "id": "mPQ35p258lOa"
      },
      "execution_count": null,
      "outputs": []
    },
    {
      "cell_type": "code",
      "source": [
        "df5[[\"Sexo\"]]"
      ],
      "metadata": {
        "id": "4E1g3RBj_jCA"
      },
      "execution_count": null,
      "outputs": []
    },
    {
      "cell_type": "code",
      "source": [
        "df5[[\"Sexo\", \"edad2\"]]"
      ],
      "metadata": {
        "id": "ROe5kPOI_rDS"
      },
      "execution_count": null,
      "outputs": []
    },
    {
      "cell_type": "code",
      "source": [
        "df5.drop(columns = [\"Marca temporal\"], axis = 1)"
      ],
      "metadata": {
        "id": "dlAYhCSB_3Em"
      },
      "execution_count": null,
      "outputs": []
    },
    {
      "cell_type": "code",
      "source": [
        "df5[[col for col in df5.columns if col.startswith(\"edad\")]]"
      ],
      "metadata": {
        "id": "OzxXImBxAvGr"
      },
      "execution_count": null,
      "outputs": []
    },
    {
      "cell_type": "code",
      "source": [
        "df5[[col for col in df5.columns if col.endswith(\"00\")]]"
      ],
      "metadata": {
        "id": "GBK6TN7tA-AV"
      },
      "execution_count": null,
      "outputs": []
    },
    {
      "cell_type": "code",
      "source": [
        "df5.drop(df5.iloc[:,0:5], axis = 1)"
      ],
      "metadata": {
        "id": "8AGO7UdWBj_D"
      },
      "execution_count": null,
      "outputs": []
    },
    {
      "cell_type": "code",
      "source": [
        "df5.filter(like = \"edad\", axis = 1)"
      ],
      "metadata": {
        "id": "vHrMejLsC6nP"
      },
      "execution_count": null,
      "outputs": []
    },
    {
      "cell_type": "markdown",
      "source": [
        "## **Selección de filas**"
      ],
      "metadata": {
        "id": "AGc3KbTtE9B1"
      }
    },
    {
      "cell_type": "code",
      "source": [
        "df5[df5[\"Sexo\"] == \"Mujer\"]"
      ],
      "metadata": {
        "id": "1WCKtetWELux"
      },
      "execution_count": null,
      "outputs": []
    },
    {
      "cell_type": "code",
      "source": [
        "df5[df5[\"Sexo\"] != \"Hombre\"]"
      ],
      "metadata": {
        "id": "iPF2iZYfFFMQ"
      },
      "execution_count": null,
      "outputs": []
    },
    {
      "cell_type": "code",
      "source": [
        "df5[df5[\"edad2\"] >= 20]"
      ],
      "metadata": {
        "id": "j0fXUu1BFkxf"
      },
      "execution_count": null,
      "outputs": []
    },
    {
      "cell_type": "code",
      "source": [
        "df5[\n",
        "    (df5[\"edad2\"] >= 18) &\n",
        "    (df5[\"edad2\"] <= 21) &\n",
        "    (df5[\"Sexo\"] == \"Hombre\")\n",
        "][[\"Sexo\", \"edad2\"]]"
      ],
      "metadata": {
        "id": "gpqRgkNfF8cV"
      },
      "execution_count": null,
      "outputs": []
    },
    {
      "cell_type": "code",
      "source": [
        "df3[df3.iloc[:,7].str.contains(\"falso\", regex = False)]"
      ],
      "metadata": {
        "id": "DTJjcrGpIcTg"
      },
      "execution_count": null,
      "outputs": []
    },
    {
      "cell_type": "markdown",
      "source": [
        "## **Cambio de nombre de columnas**"
      ],
      "metadata": {
        "id": "lr5BRB9sNOGg"
      }
    },
    {
      "cell_type": "code",
      "source": [
        "df6 = df5.copy()"
      ],
      "metadata": {
        "id": "aP13dbqpMJBc"
      },
      "execution_count": null,
      "outputs": []
    },
    {
      "cell_type": "markdown",
      "source": [
        "### **Apps**"
      ],
      "metadata": {
        "id": "Kh6VBRaWNa1y"
      }
    },
    {
      "cell_type": "code",
      "source": [
        "df6.info()"
      ],
      "metadata": {
        "id": "UDcgl4DYNYos"
      },
      "execution_count": null,
      "outputs": []
    },
    {
      "cell_type": "markdown",
      "source": [
        "**Paso 1:** Crear una lista con los nuevos nombres"
      ],
      "metadata": {
        "id": "gIni3BhVNpVO"
      }
    },
    {
      "cell_type": "code",
      "source": [
        "apps = [\"TikTok\", \"Instagram\", \"Facebook\", \"YouTube\"]"
      ],
      "metadata": {
        "id": "83gyJAB-NiBb"
      },
      "execution_count": null,
      "outputs": []
    },
    {
      "cell_type": "code",
      "source": [
        "apps"
      ],
      "metadata": {
        "id": "qzorzRZYN5-O"
      },
      "execution_count": null,
      "outputs": []
    },
    {
      "cell_type": "markdown",
      "source": [
        "**Paso 2:** Crear un dict que contenga los nombres antiguos como claves (key) y los nuevos como valor (value)"
      ],
      "metadata": {
        "id": "wm0vigx-OWN1"
      }
    },
    {
      "cell_type": "code",
      "source": [
        "# zip() crea tuplas (nombre antiguo, nombre nuevo)\n",
        "# dict() almacena en un diccionario\n",
        "apps_dict = dict(\n",
        "    zip(\n",
        "        [col for col in df6.columns if col.endswith(\"00\")],\n",
        "        apps\n",
        "    )\n",
        ")"
      ],
      "metadata": {
        "id": "2yj-uK9_N6pI"
      },
      "execution_count": null,
      "outputs": []
    },
    {
      "cell_type": "code",
      "source": [
        "apps_dict"
      ],
      "metadata": {
        "id": "L5aLB77qPIsU"
      },
      "execution_count": null,
      "outputs": []
    },
    {
      "cell_type": "markdown",
      "source": [
        "**Paso 3:** Reemplazar"
      ],
      "metadata": {
        "id": "uBnxSS6IPlYN"
      }
    },
    {
      "cell_type": "code",
      "source": [
        "df6.rename(apps_dict, axis = 1, inplace = True)"
      ],
      "metadata": {
        "id": "J6RNEMXLPKJ3"
      },
      "execution_count": null,
      "outputs": []
    },
    {
      "cell_type": "code",
      "source": [
        "df6.info()"
      ],
      "metadata": {
        "id": "X6smBcCBPykM"
      },
      "execution_count": null,
      "outputs": []
    },
    {
      "cell_type": "markdown",
      "source": [
        "### **Frases**"
      ],
      "metadata": {
        "id": "IGh1c7niQl9_"
      }
    },
    {
      "cell_type": "markdown",
      "source": [
        "**Paso 0:** Convertir la lista a pd.Series"
      ],
      "metadata": {
        "id": "9kK8IYKORLkz"
      }
    },
    {
      "cell_type": "code",
      "source": [
        "type(frases)"
      ],
      "metadata": {
        "id": "b_t_HD9qRSFZ"
      },
      "execution_count": null,
      "outputs": []
    },
    {
      "cell_type": "code",
      "source": [
        "frases2 = pd.Series(frases)"
      ],
      "metadata": {
        "id": "wtIRBruNRQXh"
      },
      "execution_count": null,
      "outputs": []
    },
    {
      "cell_type": "code",
      "source": [
        "type(frases2)"
      ],
      "metadata": {
        "id": "X39lstFvRZlf"
      },
      "execution_count": null,
      "outputs": []
    },
    {
      "cell_type": "markdown",
      "source": [
        "**Paso 1:** Crear una lista con los nuevos nombres"
      ],
      "metadata": {
        "id": "RlD1lvC-RKIi"
      }
    },
    {
      "cell_type": "code",
      "source": [
        "# Solución de Samuel Vizcarra\n",
        "# con corchetes: \\[.*?\\]\n",
        "# sin corchetes: \\[(.*?)\\]\n",
        "frases2 = frases2.str.extract(\"\\\\[(.+)\\\\]\")[0]"
      ],
      "metadata": {
        "id": "hns21BekPzzJ"
      },
      "execution_count": null,
      "outputs": []
    },
    {
      "cell_type": "markdown",
      "source": [
        "**Paso 2:** Crear un dict que contenga los nombres antiguos como claves (key) y los nuevos como valor (value)"
      ],
      "metadata": {
        "id": "uIYVTlskT2af"
      }
    },
    {
      "cell_type": "code",
      "source": [
        "frases_dict = dict(zip(frases, frases2))"
      ],
      "metadata": {
        "id": "HDoVSClnTypC"
      },
      "execution_count": null,
      "outputs": []
    },
    {
      "cell_type": "code",
      "source": [
        "frases_dict"
      ],
      "metadata": {
        "id": "0BHPEEb1UEA2"
      },
      "execution_count": null,
      "outputs": []
    },
    {
      "cell_type": "markdown",
      "source": [
        "**Paso 3:** Reemplazar"
      ],
      "metadata": {
        "id": "zSpFlFP3USin"
      }
    },
    {
      "cell_type": "code",
      "source": [
        "df6.rename(frases_dict, axis = 1, inplace = True)"
      ],
      "metadata": {
        "id": "r3B9QAsVUEgG"
      },
      "execution_count": null,
      "outputs": []
    },
    {
      "cell_type": "code",
      "source": [
        "df6.info()"
      ],
      "metadata": {
        "id": "bZMx6PR5UX1Q"
      },
      "execution_count": null,
      "outputs": []
    },
    {
      "cell_type": "markdown",
      "source": [
        "## **Pivotado de base de datos**"
      ],
      "metadata": {
        "id": "35KfJ4LbWAoy"
      }
    },
    {
      "cell_type": "markdown",
      "source": [
        "### **Pivot Longer**"
      ],
      "metadata": {
        "id": "wgMvfd-uWEDI"
      }
    },
    {
      "cell_type": "code",
      "source": [
        "df7 = df6.melt(\n",
        "    # identifiers\n",
        "    id_vars = [\"Marca temporal\", \"Sexo\", \"edad2\"],\n",
        "    value_vars = apps,\n",
        "    var_name = \"app\",\n",
        "    value_name = \"time\"\n",
        ")"
      ],
      "metadata": {
        "id": "ZYikIXDCUZCN"
      },
      "execution_count": null,
      "outputs": []
    },
    {
      "cell_type": "code",
      "source": [
        "df7.shape"
      ],
      "metadata": {
        "id": "jYEbF7x1WOmX"
      },
      "execution_count": null,
      "outputs": []
    },
    {
      "cell_type": "code",
      "source": [
        "df7"
      ],
      "metadata": {
        "id": "UeWkMkpdX2kN"
      },
      "execution_count": null,
      "outputs": []
    },
    {
      "cell_type": "markdown",
      "source": [
        "### **Pivot Wider**"
      ],
      "metadata": {
        "id": "tBbjWlcyZX5d"
      }
    },
    {
      "cell_type": "code",
      "source": [
        "df8 = df7.pivot(\n",
        "    # identifiers\n",
        "    index = [\"Marca temporal\", \"Sexo\", \"edad2\"],\n",
        "    columns = \"app\",\n",
        "    values = \"time\"\n",
        ")"
      ],
      "metadata": {
        "id": "NXap11N8YAyX"
      },
      "execution_count": null,
      "outputs": []
    },
    {
      "cell_type": "code",
      "source": [
        "# Notar que las columnas se ven raras\n",
        "df8.head()"
      ],
      "metadata": {
        "id": "QZqWhOwOaTnV"
      },
      "execution_count": null,
      "outputs": []
    },
    {
      "cell_type": "code",
      "source": [
        "# Los identifiers NO son columnas\n",
        "df8.info()"
      ],
      "metadata": {
        "id": "Ix1_cBF7ajq1"
      },
      "execution_count": null,
      "outputs": []
    },
    {
      "cell_type": "code",
      "source": [
        "# Reiniciando index\n",
        "df8.reset_index(inplace = True)"
      ],
      "metadata": {
        "id": "rquJAnJ5a-C5"
      },
      "execution_count": null,
      "outputs": []
    },
    {
      "cell_type": "code",
      "source": [
        "df8.head()"
      ],
      "metadata": {
        "id": "az6ezFDfbTUh"
      },
      "execution_count": null,
      "outputs": []
    },
    {
      "cell_type": "code",
      "source": [
        "# Quitando nombre al grupo de columnas\n",
        "df8.columns.name = None"
      ],
      "metadata": {
        "id": "AlrVsN2NbU5V"
      },
      "execution_count": null,
      "outputs": []
    },
    {
      "cell_type": "code",
      "source": [
        "df8.head()"
      ],
      "metadata": {
        "id": "cb2dWKcHbfVU"
      },
      "execution_count": null,
      "outputs": []
    },
    {
      "cell_type": "markdown",
      "source": [
        "# **Tema 4: Detección de outliers**"
      ],
      "metadata": {
        "id": "JiVUS3Quyhr0"
      }
    },
    {
      "cell_type": "markdown",
      "source": [
        "**Transformación de horas a númerico**"
      ],
      "metadata": {
        "id": "sq4vM4GRy1nA"
      }
    },
    {
      "cell_type": "code",
      "source": [
        "# split separa textos\n",
        "\"02:30:45\".split(\":\")"
      ],
      "metadata": {
        "id": "WWudndBybgUm"
      },
      "execution_count": null,
      "outputs": []
    },
    {
      "cell_type": "code",
      "source": [
        "# función conversora\n",
        "def tiempo_a_num(x):\n",
        "  return int(x.split(\":\")[0]) + int(x.split(\":\")[1])/60 + int(x.split(\":\")[2])/60**2"
      ],
      "metadata": {
        "id": "b9tK5Qj2zMV1"
      },
      "execution_count": null,
      "outputs": []
    },
    {
      "cell_type": "code",
      "source": [
        "# probando la función\n",
        "tiempo_a_num(\"00:30:00\")"
      ],
      "metadata": {
        "id": "OXpf5M670Nx1"
      },
      "execution_count": null,
      "outputs": []
    },
    {
      "cell_type": "code",
      "source": [
        "df7[\"time\"] = df7[\"time\"].apply(tiempo_a_num)"
      ],
      "metadata": {
        "id": "RLp6qzGH0VEA"
      },
      "execution_count": null,
      "outputs": []
    },
    {
      "cell_type": "markdown",
      "source": [
        "## **Gráfica: Boxplot**"
      ],
      "metadata": {
        "id": "TqS7qFhL1IhY"
      }
    },
    {
      "cell_type": "code",
      "source": [
        "import plotly.express as px"
      ],
      "metadata": {
        "id": "yZdOm6mD1AxA"
      },
      "execution_count": null,
      "outputs": []
    },
    {
      "cell_type": "code",
      "source": [
        "px.box(df7, y = \"time\")"
      ],
      "metadata": {
        "id": "2GnklB-e1bdt"
      },
      "execution_count": null,
      "outputs": []
    },
    {
      "cell_type": "markdown",
      "source": [
        "**Apertura por app**"
      ],
      "metadata": {
        "id": "hIn3TZ1i1_fd"
      }
    },
    {
      "cell_type": "markdown",
      "source": [
        "**Usando plotly**"
      ],
      "metadata": {
        "id": "oexmVD1-66jL"
      }
    },
    {
      "cell_type": "code",
      "source": [
        "px.box(\n",
        "    # esta parte es la equivalente a ggplot()\n",
        "    df7,\n",
        "    x = \"app\",\n",
        "    y = \"time\",\n",
        "    color = \"app\",\n",
        "    # points = \"all\"\n",
        ").update_layout(\n",
        "    # update_layout es el equivalente a theme() en ggplot\n",
        "    title = \"Apertura por app\",\n",
        "    showlegend = False,\n",
        "    xaxis_title = \"App\",\n",
        "    yaxis_title = \"Tiempo (horas)\",\n",
        "    plot_bgcolor = \"white\"\n",
        ").update_traces({\n",
        "    \"marker\": {\"size\": 8},\n",
        "    \"line\": {\"width\": 4},\n",
        "    \"fillcolor\": \"white\"\n",
        "})"
      ],
      "metadata": {
        "id": "Tg5PG6Md1kiu"
      },
      "execution_count": null,
      "outputs": []
    },
    {
      "cell_type": "markdown",
      "source": [
        "**Usando ggplot**"
      ],
      "metadata": {
        "id": "YnUuZjnB6zBN"
      }
    },
    {
      "cell_type": "code",
      "source": [
        "from plotnine import *"
      ],
      "metadata": {
        "id": "xt6LKSc-2QuT"
      },
      "execution_count": null,
      "outputs": []
    },
    {
      "cell_type": "code",
      "source": [
        "# Los paréntesis especifican que todo forma parte de un solo statement\n",
        "(\n",
        "    ggplot(df7, aes(x = \"app\", y = \"time\", color = \"app\"))\n",
        "    + geom_boxplot()\n",
        "    + geom_jitter(width = 0.2, alpha = 0.5)\n",
        "    + theme_minimal()\n",
        "    + theme(legend_position = \"none\")\n",
        "    + labs(\n",
        "        title = \"Apertura por app\",\n",
        "        x = \"App\",\n",
        "        y = \"Tiempo (horas)\"\n",
        "    )\n",
        ").draw()"
      ],
      "metadata": {
        "id": "Fr5Nump37ANU"
      },
      "execution_count": null,
      "outputs": []
    },
    {
      "cell_type": "markdown",
      "source": [
        "## **Tratamiento**"
      ],
      "metadata": {
        "id": "YSdR-20u9dB5"
      }
    },
    {
      "cell_type": "code",
      "source": [
        "df9 = df7.copy()"
      ],
      "metadata": {
        "id": "jBGCLgQ37cF5"
      },
      "execution_count": null,
      "outputs": []
    },
    {
      "cell_type": "code",
      "source": [
        "condiciones = (\n",
        "    ((df9[\"app\"] == \"TikTok\")    & (df9[\"time\"] > 16.37)) |\n",
        "    ((df9[\"app\"] == \"Instagram\") & (df9[\"time\"] > 12))    |\n",
        "    ((df9[\"app\"] == \"Facebook\")  & (df9[\"time\"] > 10))    |\n",
        "    ((df9[\"app\"] == \"YouTube\")   & (df9[\"time\"] > 9))\n",
        ")"
      ],
      "metadata": {
        "id": "eBmZRrkX9lS6"
      },
      "execution_count": null,
      "outputs": []
    },
    {
      "cell_type": "code",
      "source": [
        "df9[\"outlier\"] = np.where(condiciones, \"outlier\", \"No outlier\")"
      ],
      "metadata": {
        "id": "J6291uAF-axw"
      },
      "execution_count": null,
      "outputs": []
    },
    {
      "cell_type": "code",
      "source": [
        "df9[\"promedio\"] = df9.groupby(\"app\")[\"time\"].transform(\"mean\")"
      ],
      "metadata": {
        "id": "MsAwfn3B-ziw"
      },
      "execution_count": null,
      "outputs": []
    },
    {
      "cell_type": "code",
      "source": [
        "df9[\"time2\"] = np.where(df9[\"outlier\"] == \"outlier\", df9[\"promedio\"], df9[\"time\"])"
      ],
      "metadata": {
        "id": "lWQaDL8j_eve"
      },
      "execution_count": null,
      "outputs": []
    },
    {
      "cell_type": "code",
      "source": [
        "df9"
      ],
      "metadata": {
        "id": "k7GXEd6c_dl8"
      },
      "execution_count": null,
      "outputs": []
    },
    {
      "cell_type": "markdown",
      "source": [
        "# **Tema 5: Exploratory Data Analysis (EDA)**"
      ],
      "metadata": {
        "id": "cfRDmu2GBe4T"
      }
    },
    {
      "cell_type": "markdown",
      "source": [
        "## **Variables categóricas**"
      ],
      "metadata": {
        "id": "yu4dNq2VCDB4"
      }
    },
    {
      "cell_type": "code",
      "source": [
        "# conteo\n",
        "df6[\"edadGR\"].value_counts()"
      ],
      "metadata": {
        "id": "_pt3XUcu_3Ys"
      },
      "execution_count": null,
      "outputs": []
    },
    {
      "cell_type": "code",
      "source": [
        "# proporciones\n",
        "df6[\"edadGR\"].value_counts(normalize = True)"
      ],
      "metadata": {
        "id": "_ArXL_bHCO16"
      },
      "execution_count": null,
      "outputs": []
    },
    {
      "cell_type": "code",
      "source": [
        "# orden ascendente\n",
        "df6[\"edadGR\"].value_counts().sort_values()"
      ],
      "metadata": {
        "id": "QW57V30ICoe4"
      },
      "execution_count": null,
      "outputs": []
    },
    {
      "cell_type": "code",
      "source": [
        "# orden descendente\n",
        "df6[\"edadGR\"].value_counts().sort_values(ascending = False)"
      ],
      "metadata": {
        "id": "_h7uzpa9C0N9"
      },
      "execution_count": null,
      "outputs": []
    },
    {
      "cell_type": "code",
      "source": [
        "# de Series a DataFrame\n",
        "df_edadGR = df6[\"edadGR\"].value_counts().reset_index()\n",
        "df_edadGR.columns = [\"edadGR\", \"n\"]"
      ],
      "metadata": {
        "id": "I4JRUTvSC__B"
      },
      "execution_count": null,
      "outputs": []
    },
    {
      "cell_type": "code",
      "source": [
        "# orden ascendente por columna\n",
        "df_edadGR.sort_values(by = \"n\", ascending = True)"
      ],
      "metadata": {
        "id": "r7fecp7wDqSP"
      },
      "execution_count": null,
      "outputs": []
    },
    {
      "cell_type": "code",
      "source": [
        "# crear nuevas columnas calculadas\n",
        "df_edadGR[\"prop\"] = df_edadGR[\"n\"] / df_edadGR[\"n\"].sum()"
      ],
      "metadata": {
        "id": "wr4tGhCaDrg-"
      },
      "execution_count": null,
      "outputs": []
    },
    {
      "cell_type": "code",
      "source": [
        "df_edadGR"
      ],
      "metadata": {
        "id": "qbL5Uvl6FKcp"
      },
      "execution_count": null,
      "outputs": []
    },
    {
      "cell_type": "markdown",
      "source": [],
      "metadata": {
        "id": "5-t6tNoMGMgp"
      }
    },
    {
      "cell_type": "markdown",
      "source": [
        "## **Variables numéricas**"
      ],
      "metadata": {
        "id": "av37iStQGHM1"
      }
    },
    {
      "cell_type": "code",
      "source": [
        "df9[\"time\"].describe()"
      ],
      "metadata": {
        "id": "kIM8p0gjFLq2"
      },
      "execution_count": null,
      "outputs": []
    },
    {
      "cell_type": "code",
      "source": [],
      "metadata": {
        "id": "6XpCuSDDGMHK"
      },
      "execution_count": null,
      "outputs": []
    }
  ]
}