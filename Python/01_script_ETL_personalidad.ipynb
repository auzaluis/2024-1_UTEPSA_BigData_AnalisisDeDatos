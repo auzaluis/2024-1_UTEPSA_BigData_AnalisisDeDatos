{
  "nbformat": 4,
  "nbformat_minor": 0,
  "metadata": {
    "colab": {
      "provenance": [],
      "toc_visible": true,
      "authorship_tag": "ABX9TyMbUN9FR5CEPybVifh5Iorr",
      "include_colab_link": true
    },
    "kernelspec": {
      "name": "python3",
      "display_name": "Python 3"
    },
    "language_info": {
      "name": "python"
    }
  },
  "cells": [
    {
      "cell_type": "markdown",
      "metadata": {
        "id": "view-in-github",
        "colab_type": "text"
      },
      "source": [
        "<a href=\"https://colab.research.google.com/github/auzaluis/2024-1_UTEPSA_BigData_AnalisisDeDatos/blob/main/Python/01_script_ETL_personalidad.ipynb\" target=\"_parent\"><img src=\"https://colab.research.google.com/assets/colab-badge.svg\" alt=\"Open In Colab\"/></a>"
      ]
    },
    {
      "cell_type": "markdown",
      "source": [
        "# Tema 1: Carga de datos"
      ],
      "metadata": {
        "id": "Pund-fwiVRfY"
      }
    },
    {
      "cell_type": "markdown",
      "source": [
        "## **Importando base de datos**"
      ],
      "metadata": {
        "id": "fkrS1cyEOsnd"
      }
    },
    {
      "cell_type": "code",
      "execution_count": null,
      "metadata": {
        "id": "5OhsxVd1MxxF"
      },
      "outputs": [],
      "source": [
        "# Google Auth\n",
        "from google.colab import auth\n",
        "auth.authenticate_user()"
      ]
    },
    {
      "cell_type": "code",
      "source": [
        "# API Client\n",
        "from google.auth import default\n",
        "creds, _ = default()"
      ],
      "metadata": {
        "id": "EX1ozFn-OEza"
      },
      "execution_count": null,
      "outputs": []
    },
    {
      "cell_type": "code",
      "source": [
        "# gspread Authorization\n",
        "import gspread\n",
        "gc = gspread.authorize(creds)"
      ],
      "metadata": {
        "id": "CNDGm59YQWs0"
      },
      "execution_count": null,
      "outputs": []
    },
    {
      "cell_type": "code",
      "source": [
        "# Accediendo al Google Sheet\n",
        "url_personalidad = \"https://docs.google.com/spreadsheets/d/1IQ_RxxTSmBKHTExlxboIRNlMov_F6RyqdcOPrflCv_w/edit?usp=sharing\"\n",
        "gsheets = gc.open_by_url(url_personalidad)\n",
        "sheets = gsheets.worksheet(\"Respuestas de formulario 1\").get_all_values()"
      ],
      "metadata": {
        "id": "3WtrC653PsH1"
      },
      "execution_count": null,
      "outputs": []
    },
    {
      "cell_type": "code",
      "source": [
        "type(sheets)"
      ],
      "metadata": {
        "id": "NEPKsNJ_Qz6r"
      },
      "execution_count": null,
      "outputs": []
    },
    {
      "cell_type": "code",
      "source": [
        "# Convirtiendo en un df\n",
        "import pandas as pd\n",
        "df = pd.DataFrame(sheets[1:], columns = sheets[0])"
      ],
      "metadata": {
        "id": "wbgaLDlDQ2Xv"
      },
      "execution_count": null,
      "outputs": []
    },
    {
      "cell_type": "markdown",
      "source": [
        "## Inspección data frame"
      ],
      "metadata": {
        "id": "SR6kgnYOSjQj"
      }
    },
    {
      "cell_type": "code",
      "source": [
        "type(df)"
      ],
      "metadata": {
        "id": "xlxZrBmoRlsO"
      },
      "execution_count": null,
      "outputs": []
    },
    {
      "cell_type": "code",
      "source": [
        "# Visualizando las primeras filas\n",
        "df.head()"
      ],
      "metadata": {
        "id": "6u_Cs27bSnAm"
      },
      "execution_count": null,
      "outputs": []
    },
    {
      "cell_type": "code",
      "source": [
        "# Mirada general\n",
        "df.info()"
      ],
      "metadata": {
        "id": "QvNhJHUBS15K"
      },
      "execution_count": null,
      "outputs": []
    },
    {
      "cell_type": "code",
      "source": [
        "# Tipo de datos\n",
        "df[\"Sexo\"].dtype"
      ],
      "metadata": {
        "id": "HdjNEllaTRSE"
      },
      "execution_count": null,
      "outputs": []
    },
    {
      "cell_type": "code",
      "source": [
        "# Número de filas y columnas\n",
        "df.shape"
      ],
      "metadata": {
        "id": "qNevhL4vT3Fc"
      },
      "execution_count": null,
      "outputs": []
    },
    {
      "cell_type": "code",
      "source": [
        "# Número de filas\n",
        "len(df)"
      ],
      "metadata": {
        "id": "Mhk7hMe7UJCw"
      },
      "execution_count": null,
      "outputs": []
    },
    {
      "cell_type": "code",
      "source": [
        "df.columns"
      ],
      "metadata": {
        "id": "Wb_-P8uyUn83"
      },
      "execution_count": null,
      "outputs": []
    },
    {
      "cell_type": "code",
      "source": [
        "len(df.columns)"
      ],
      "metadata": {
        "id": "TyGueagLUfSL"
      },
      "execution_count": null,
      "outputs": []
    },
    {
      "cell_type": "markdown",
      "source": [
        "# **Tema 2: Transformación de datos**"
      ],
      "metadata": {
        "id": "efhk7IjcVXhd"
      }
    },
    {
      "cell_type": "markdown",
      "source": [
        "## **Valores perdidos**"
      ],
      "metadata": {
        "id": "Z1BtWbzSVdjh"
      }
    },
    {
      "cell_type": "markdown",
      "source": [
        "### **Identificación de los NAs**"
      ],
      "metadata": {
        "id": "nI4o5CbiWBg7"
      }
    },
    {
      "cell_type": "code",
      "source": [
        "# Los NAs en realidad son strings vacíos\n",
        "import numpy as np\n",
        "df.replace(\"\", np.nan, inplace = True)"
      ],
      "metadata": {
        "id": "mHq8JhKTUpnP"
      },
      "execution_count": null,
      "outputs": []
    },
    {
      "cell_type": "code",
      "source": [
        "df['Escribe tu edad exacta'].isna().value_counts()"
      ],
      "metadata": {
        "id": "nq26zsioWbEL"
      },
      "execution_count": null,
      "outputs": []
    },
    {
      "cell_type": "markdown",
      "source": [
        "### **Omitiendo**\n",
        "\n"
      ],
      "metadata": {
        "id": "nGegcBbrXPdf"
      }
    },
    {
      "cell_type": "code",
      "source": [
        "df['Escribe tu edad exacta'].dtype"
      ],
      "metadata": {
        "id": "_T6bnx_PWzNB"
      },
      "execution_count": null,
      "outputs": []
    },
    {
      "cell_type": "code",
      "source": [
        "df['Escribe tu edad exacta'] = pd.to_numeric(df['Escribe tu edad exacta'], errors = 'coerce')"
      ],
      "metadata": {
        "id": "PL0DOlw5XXnv"
      },
      "execution_count": null,
      "outputs": []
    },
    {
      "cell_type": "code",
      "source": [
        "df['Escribe tu edad exacta'].dtype"
      ],
      "metadata": {
        "id": "N-DOz_S6X3NC"
      },
      "execution_count": null,
      "outputs": []
    },
    {
      "cell_type": "code",
      "source": [
        "df['Escribe tu edad exacta'].mean()"
      ],
      "metadata": {
        "id": "nbjSzMxIYQNr"
      },
      "execution_count": null,
      "outputs": []
    },
    {
      "cell_type": "code",
      "source": [
        "edad_promedio = df['Escribe tu edad exacta'].mean()"
      ],
      "metadata": {
        "id": "uKqD9RqGYWUR"
      },
      "execution_count": null,
      "outputs": []
    },
    {
      "cell_type": "markdown",
      "source": [
        "### **Reemplazo por la media**"
      ],
      "metadata": {
        "id": "HgdINdQMYmNy"
      }
    },
    {
      "cell_type": "code",
      "source": [
        "# creando df2\n",
        "df2 = df.copy()"
      ],
      "metadata": {
        "id": "k6oH_un2YhDN"
      },
      "execution_count": null,
      "outputs": []
    },
    {
      "cell_type": "code",
      "source": [
        "# reemplazo por la media\n",
        "df2[\"edad2\"] = df2[\"Escribe tu edad exacta\"].fillna(edad_promedio)"
      ],
      "metadata": {
        "id": "Np9kHdVXY9Tp"
      },
      "execution_count": null,
      "outputs": []
    },
    {
      "cell_type": "markdown",
      "source": [
        "**Reubicando la columna edad2**"
      ],
      "metadata": {
        "id": "G4uiguWMlyXl"
      }
    },
    {
      "cell_type": "code",
      "source": [
        "# Colocar los nombres de las columnas en una lista\n",
        "lista_columnas = df2.columns.to_list()"
      ],
      "metadata": {
        "id": "__0i4eHflj30"
      },
      "execution_count": null,
      "outputs": []
    },
    {
      "cell_type": "code",
      "source": [
        "# Quitar temporalmente edad2 de la lista\n",
        "lista_columnas.remove(\"edad2\")"
      ],
      "metadata": {
        "id": "AX9dIwxVmWe4"
      },
      "execution_count": null,
      "outputs": []
    },
    {
      "cell_type": "code",
      "source": [
        "# obteniendo el índice de la columna 'after'\n",
        "lista_columnas.index(\"Escribe tu edad exacta\")"
      ],
      "metadata": {
        "id": "x18Da6Mrmlba"
      },
      "execution_count": null,
      "outputs": []
    },
    {
      "cell_type": "code",
      "source": [
        "# insertando 'edad2' después de 'Escribe tu edad exacta'\n",
        "lista_columnas.insert(lista_columnas.index(\"Escribe tu edad exacta\") + 1, \"edad2\")"
      ],
      "metadata": {
        "id": "KbFcOMW9m7jB"
      },
      "execution_count": null,
      "outputs": []
    },
    {
      "cell_type": "code",
      "source": [
        "# Reordenando y guadando en df2\n",
        "df2 = df2[lista_columnas]"
      ],
      "metadata": {
        "id": "1yZh1uWvnxde"
      },
      "execution_count": null,
      "outputs": []
    },
    {
      "cell_type": "markdown",
      "source": [
        "**Emulando relocate() de R en Python**"
      ],
      "metadata": {
        "id": "JZwDSEvgo58w"
      }
    },
    {
      "cell_type": "code",
      "source": [
        "def relocate(df, columna, after):\n",
        "  lista_columnas = df.columns.to_list()\n",
        "  lista_columnas.remove(columna)\n",
        "  lista_columnas.insert(lista_columnas.index(after) + 1, columna)\n",
        "  return df[lista_columnas]"
      ],
      "metadata": {
        "id": "hj0ldF5bobod"
      },
      "execution_count": null,
      "outputs": []
    },
    {
      "cell_type": "code",
      "source": [
        "relocate(\n",
        "    df = df2,\n",
        "    columna = \"edad2\",\n",
        "    after = \"Escribe tu edad exacta\"\n",
        ")"
      ],
      "metadata": {
        "id": "e3Kv58JCqiM_"
      },
      "execution_count": null,
      "outputs": []
    },
    {
      "cell_type": "markdown",
      "source": [
        "### **Eliminar la fila completa**"
      ],
      "metadata": {
        "id": "wUmFYiOtsTSu"
      }
    },
    {
      "cell_type": "code",
      "source": [
        "df2 = df2.dropna()"
      ],
      "metadata": {
        "id": "YkEQOuJIq1Im"
      },
      "execution_count": null,
      "outputs": []
    },
    {
      "cell_type": "code",
      "source": [
        "df2.shape"
      ],
      "metadata": {
        "id": "LBCJmgXOsamS"
      },
      "execution_count": null,
      "outputs": []
    },
    {
      "cell_type": "markdown",
      "source": [
        "## **Estandarización de variables**"
      ],
      "metadata": {
        "id": "m9gM1uF-tb99"
      }
    },
    {
      "cell_type": "markdown",
      "source": [
        "### **Normalización**"
      ],
      "metadata": {
        "id": "pUjdkNeTtfeQ"
      }
    },
    {
      "cell_type": "code",
      "source": [
        "from sklearn.preprocessing import StandardScaler"
      ],
      "metadata": {
        "id": "Ctsi32N6s2rk"
      },
      "execution_count": null,
      "outputs": []
    },
    {
      "cell_type": "code",
      "source": [
        "# instanciando StandardScaler()\n",
        "normalizador = StandardScaler()"
      ],
      "metadata": {
        "id": "n_zGiv7iuMR-"
      },
      "execution_count": null,
      "outputs": []
    },
    {
      "cell_type": "code",
      "source": [
        "# normalizando\n",
        "normalizador.fit_transform(df2[[\"edad2\"]])"
      ],
      "metadata": {
        "id": "EMQveM4PuP1_"
      },
      "execution_count": null,
      "outputs": []
    },
    {
      "cell_type": "code",
      "source": [
        "# Creando df3\n",
        "df3 = df2.copy()"
      ],
      "metadata": {
        "id": "z4ex3nIaueBk"
      },
      "execution_count": null,
      "outputs": []
    },
    {
      "cell_type": "code",
      "source": [
        "df3[\"edadZ\"] = normalizador.fit_transform(df2[[\"edad2\"]])"
      ],
      "metadata": {
        "id": "91eumZSQuexi"
      },
      "execution_count": null,
      "outputs": []
    },
    {
      "cell_type": "code",
      "source": [
        "# Reubicando edadZ\n",
        "df3 = relocate(\n",
        "    df = df3,\n",
        "    columna = \"edadZ\",\n",
        "    after = \"edad2\"\n",
        ")"
      ],
      "metadata": {
        "id": "aayEGpW7vGyZ"
      },
      "execution_count": null,
      "outputs": []
    },
    {
      "cell_type": "markdown",
      "source": [
        "### **Rango**"
      ],
      "metadata": {
        "id": "uz-q-GQgyX_X"
      }
    },
    {
      "cell_type": "code",
      "source": [
        "from sklearn.preprocessing import MinMaxScaler"
      ],
      "metadata": {
        "id": "F_89xtaGvWEc"
      },
      "execution_count": null,
      "outputs": []
    },
    {
      "cell_type": "code",
      "source": [
        "# instanciando MinMaxScaler()\n",
        "rango = MinMaxScaler()"
      ],
      "metadata": {
        "id": "o0Lg1_M4yqHJ"
      },
      "execution_count": null,
      "outputs": []
    },
    {
      "cell_type": "code",
      "source": [
        "rango.fit_transform(df3[[\"edad2\"]])"
      ],
      "metadata": {
        "id": "uJViit8By1ZZ"
      },
      "execution_count": null,
      "outputs": []
    },
    {
      "cell_type": "code",
      "source": [
        "df3[\"edadRango\"] = rango.fit_transform(df3[[\"edad2\"]])"
      ],
      "metadata": {
        "id": "0nAWRtfczARt"
      },
      "execution_count": null,
      "outputs": []
    },
    {
      "cell_type": "code",
      "source": [
        "df3 = relocate(\n",
        "    df = df3,\n",
        "    columna = \"edadRango\",\n",
        "    after = \"edadZ\"\n",
        ")"
      ],
      "metadata": {
        "id": "1miUVtk0zWIc"
      },
      "execution_count": null,
      "outputs": []
    },
    {
      "cell_type": "code",
      "source": [
        "df3.head()"
      ],
      "metadata": {
        "id": "hXAqdJ7Bzba7"
      },
      "execution_count": null,
      "outputs": []
    },
    {
      "cell_type": "markdown",
      "source": [
        "## **Agrupaciones**"
      ],
      "metadata": {
        "id": "Xsp8J19k2MW2"
      }
    },
    {
      "cell_type": "markdown",
      "source": [
        "### **Numéricas**"
      ],
      "metadata": {
        "id": "Lp44fIlD2PwP"
      }
    },
    {
      "cell_type": "code",
      "source": [
        "cortes = [-float(\"inf\"), 18, 21, float(\"inf\")]\n",
        "etiquetas = [\"18 o menos\", \"19 a 21\", \"Más de 21\"]"
      ],
      "metadata": {
        "id": "Hpm1l0FZzc0c"
      },
      "execution_count": null,
      "outputs": []
    },
    {
      "cell_type": "code",
      "source": [
        "# Creando columna edadGR\n",
        "df3[\"edadGR\"] = pd.cut(\n",
        "    df3[\"edad2\"],\n",
        "    bins = cortes,\n",
        "    labels = etiquetas\n",
        ")"
      ],
      "metadata": {
        "id": "TlqYYdoY8JuN"
      },
      "execution_count": null,
      "outputs": []
    },
    {
      "cell_type": "code",
      "source": [
        "# comparando\n",
        "pd.DataFrame({\n",
        "    \"original\": df3[\"edad2\"],\n",
        "    \"edadGR\": df3[\"edadGR\"]\n",
        "})"
      ],
      "metadata": {
        "id": "2BQMY1008LCT"
      },
      "execution_count": null,
      "outputs": []
    },
    {
      "cell_type": "markdown",
      "source": [
        "### **Categóricas**"
      ],
      "metadata": {
        "id": "gLLi0vFa9eLu"
      }
    },
    {
      "cell_type": "code",
      "source": [
        "# índices del df3\n",
        "df3.info()"
      ],
      "metadata": {
        "id": "UcaZoP_d8qJy"
      },
      "execution_count": null,
      "outputs": []
    },
    {
      "cell_type": "code",
      "source": [
        "# identificando los niveles\n",
        "pd.unique(df3.iloc[:,7])"
      ],
      "metadata": {
        "id": "3BeXUq_n9qP6"
      },
      "execution_count": null,
      "outputs": []
    },
    {
      "cell_type": "code",
      "source": [
        "df3.iloc[:,7].value_counts()"
      ],
      "metadata": {
        "id": "ADAEXjK--opA"
      },
      "execution_count": null,
      "outputs": []
    },
    {
      "cell_type": "code",
      "source": [
        "# prueba lógica top 2 box\n",
        "df3.iloc[:,7].isin([\"Totalmente verdadero\", \"Un poco verdadero\"]).value_counts()"
      ],
      "metadata": {
        "id": "b_tFsju0_N0z"
      },
      "execution_count": null,
      "outputs": []
    },
    {
      "cell_type": "markdown",
      "source": [
        "**Dummitización**"
      ],
      "metadata": {
        "id": "QFsEvMyNAOv9"
      }
    },
    {
      "cell_type": "code",
      "source": [
        "# función condicional normal\n",
        "def top2box(x):\n",
        "  if x in [\"Totalmente verdadero\", \"Un poco verdadero\"]:\n",
        "    return 1\n",
        "  else:\n",
        "    return 0"
      ],
      "metadata": {
        "id": "ryjR6aNS_xwi"
      },
      "execution_count": null,
      "outputs": []
    },
    {
      "cell_type": "code",
      "source": [
        "# aplicando la función\n",
        "df3.iloc[:,7].apply(top2box)"
      ],
      "metadata": {
        "id": "BHD2Gw41BqAk"
      },
      "execution_count": null,
      "outputs": []
    },
    {
      "cell_type": "code",
      "source": [
        "# frecuencias\n",
        "df3.iloc[:,7].apply(top2box).value_counts()"
      ],
      "metadata": {
        "id": "QXIvKiUiB27O"
      },
      "execution_count": null,
      "outputs": []
    },
    {
      "cell_type": "markdown",
      "source": [
        "**Funciones lambda**"
      ],
      "metadata": {
        "id": "Rqw-jDTTCV6r"
      }
    },
    {
      "cell_type": "code",
      "source": [
        "df3.iloc[:,7].apply(lambda x: 1 if x in [\"Totalmente verdadero\", \"Un poco verdadero\"] else 0).value_counts()"
      ],
      "metadata": {
        "id": "6vfNUE2qCErl"
      },
      "execution_count": null,
      "outputs": []
    },
    {
      "cell_type": "code",
      "source": [],
      "metadata": {
        "id": "aBy7LTb9DE_1"
      },
      "execution_count": null,
      "outputs": []
    },
    {
      "cell_type": "markdown",
      "source": [
        "**Escala ordinal**"
      ],
      "metadata": {
        "id": "x6HTHPUqFhfL"
      }
    },
    {
      "cell_type": "code",
      "source": [
        "import numpy as np"
      ],
      "metadata": {
        "id": "mfQZnY29Fizy"
      },
      "execution_count": null,
      "outputs": []
    },
    {
      "cell_type": "code",
      "source": [
        "# niveles\n",
        "pd.unique(df3.iloc[:,7])"
      ],
      "metadata": {
        "id": "VloIT25_FmB_"
      },
      "execution_count": null,
      "outputs": []
    },
    {
      "cell_type": "code",
      "source": [
        "condiciones = [\n",
        "    df3.iloc[:,7] == \"Totalmente falso\",\n",
        "    df3.iloc[:,7] == \"Un poco falso\",\n",
        "    df3.iloc[:,7] == \"No lo sé\",\n",
        "    df3.iloc[:,7] == \"Un poco verdadero\",\n",
        "    df3.iloc[:,7] == \"Totalmente verdadero\"\n",
        "]\n",
        "\n",
        "opciones = [1, 2, 3, 4, 5]"
      ],
      "metadata": {
        "id": "HKWQ63wTFqR9"
      },
      "execution_count": null,
      "outputs": []
    },
    {
      "cell_type": "code",
      "source": [
        "ordinal = np.select(\n",
        "    condlist = condiciones,\n",
        "    choicelist = opciones,\n",
        "    default = np.nan\n",
        ")"
      ],
      "metadata": {
        "id": "KzNp_AdxGCNz"
      },
      "execution_count": null,
      "outputs": []
    },
    {
      "cell_type": "code",
      "source": [
        "# como se trata de un objeto de numpy, el método es distinto\n",
        "np.unique(ordinal, return_counts = True)"
      ],
      "metadata": {
        "id": "ne1uAArqGn5E"
      },
      "execution_count": null,
      "outputs": []
    },
    {
      "cell_type": "code",
      "source": [
        "# si quisieras usar value_counts()...\n",
        "pd.Series(ordinal).value_counts()"
      ],
      "metadata": {
        "id": "K8jan2iAGvQq"
      },
      "execution_count": null,
      "outputs": []
    },
    {
      "cell_type": "markdown",
      "source": [
        "**Bucles**"
      ],
      "metadata": {
        "id": "IRHE4O5HIRRr"
      }
    },
    {
      "cell_type": "markdown",
      "source": [
        "Forma convencional"
      ],
      "metadata": {
        "id": "icv1ICVTIXxV"
      }
    },
    {
      "cell_type": "code",
      "source": [
        "# creando df4\n",
        "df4 = df3.copy()"
      ],
      "metadata": {
        "id": "jMbmuZx-HeFz"
      },
      "execution_count": null,
      "outputs": []
    },
    {
      "cell_type": "code",
      "source": [
        "df4.columns"
      ],
      "metadata": {
        "id": "zFjTJsNpJHrH"
      },
      "execution_count": null,
      "outputs": []
    },
    {
      "cell_type": "code",
      "source": [
        "# crear un vector vacío\n",
        "frases = []\n",
        "\n",
        "# creando bucle para llenar vector vacío\n",
        "for col in df4.columns:\n",
        "  if col.startswith(\"Según tu\"):\n",
        "    frases.append(col)"
      ],
      "metadata": {
        "id": "WuWXQIokIffZ"
      },
      "execution_count": null,
      "outputs": []
    },
    {
      "cell_type": "code",
      "source": [
        "frases"
      ],
      "metadata": {
        "id": "kZ7HMVSwJBAp"
      },
      "execution_count": null,
      "outputs": []
    },
    {
      "cell_type": "code",
      "source": [
        "# creando otro bucle, esta vez para dummitizar\n",
        "for var in frases:\n",
        "  df4[var] = df4[var].apply(top2box)"
      ],
      "metadata": {
        "id": "VucW5uwpJCiY"
      },
      "execution_count": null,
      "outputs": []
    },
    {
      "cell_type": "code",
      "source": [],
      "metadata": {
        "id": "OvDXQhAcJ7HU"
      },
      "execution_count": null,
      "outputs": []
    }
  ]
}